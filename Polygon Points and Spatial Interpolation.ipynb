{
 "cells": [
  {
   "cell_type": "code",
   "execution_count": 498,
   "id": "cdf30ef0",
   "metadata": {},
   "outputs": [],
   "source": [
    "import itertools\n",
    "import math\n",
    "import numpy as np"
   ]
  },
  {
   "cell_type": "code",
   "execution_count": 499,
   "id": "ab572cd1",
   "metadata": {},
   "outputs": [],
   "source": [
    "# Source: https://www.geeksforgeeks.org/python-program-to-get-all-subsets-of-given-size-of-a-set/\n",
    "def findsubsets(polygon, n):\n",
    "    \"\"\"\n",
    "    Computes the number of subsets that can be created.\n",
    "\n",
    "    Args:\n",
    "        polygon: The shape whose subsets we are seeking.\n",
    "        n: The number of elements per subset\n",
    "\n",
    "    Returns:\n",
    "        A list of subsets of with each subset having a length of \"n\"\n",
    "    \"\"\"\n",
    "    return list(itertools.combinations(polygon, n))"
   ]
  },
  {
   "cell_type": "code",
   "execution_count": 500,
   "id": "20cdc3ff",
   "metadata": {},
   "outputs": [],
   "source": [
    "def minimumSubset(A, subsets):\n",
    "    \"\"\"\n",
    "    Finds the subset that best represents the polygon A\n",
    "    \n",
    "    Args:\n",
    "        A: Polygon that we are seeking to replicate\n",
    "        subsets: A list of subsets \n",
    "\n",
    "    Returns:\n",
    "        A list of subsets of with each subset having a length of \"n\"\n",
    "    \"\"\"\n",
    "    d_min = math.inf\n",
    "    subset_min = 0\n",
    "    i = 0\n",
    "    while i < len(subsets):\n",
    "        j = 0\n",
    "        d = 0\n",
    "        while j < len(A):\n",
    "            result = np.array(A[j]) - np.array(subsets[i][j])\n",
    "            d = d + (np.sum(np.square(result)))\n",
    "            j += 1\n",
    "        i += 1\n",
    "\n",
    "        if (d < d_min):\n",
    "            d_min = d\n",
    "            subset_min = i\n",
    "    return subset_min, d_min"
   ]
  },
  {
   "cell_type": "code",
   "execution_count": 511,
   "id": "fd37afaf",
   "metadata": {},
   "outputs": [],
   "source": [
    "def getEquationCoeffs(segments_A):\n",
    "    \"\"\"\n",
    "    Finds the linear equations for the segements of a polygon. These segments are in a form of Ax+By+C=0.\n",
    "    \n",
    "    Args:\n",
    "        segments_A: Segments of a polygon\n",
    "\n",
    "    Returns:\n",
    "        A list of the coefficients mainly, A, B and C for every linear equation formed using the segments.\n",
    "    \"\"\"\n",
    "    equations_coeffs = [] # Ax + By + C = 0, A = index 0, B = index 1, C = index 2\n",
    "\n",
    "    for segment in segments_A:\n",
    "        if (segment[0][0] == segment[1][0]):\n",
    "            equations_coeffs.append([1, 0, -segment[0][0]])\n",
    "        elif (segment[0][1] == segment[1][1]):\n",
    "            equations_coeffs.append([0, 1, -segment[0][1]])\n",
    "        else:\n",
    "            slope = (segment[1][1] - segment[0][1]) / (segment[1][0] - segment[0][0])\n",
    "            y_intercept = segment[0][1] - slope * segment[0][0]\n",
    "        \n",
    "            # Assuming the coefficient for y will always be one, since we just rearranging y=mx+c\n",
    "            # Multiplying by -1 for rearrangement purposes\n",
    "            equations_coeffs.append([(slope * -1), 1, (y_intercept * -1)]) \n",
    "    return equations_coeffs"
   ]
  },
  {
   "cell_type": "code",
   "execution_count": 512,
   "id": "ace8db34",
   "metadata": {},
   "outputs": [],
   "source": [
    "def findDistanceToLine(x, y, equationList):\n",
    "    \"\"\"\n",
    "    Finds the distance from a point (x,y) to the segments of a polygon.\n",
    "    \n",
    "    Args:\n",
    "        x: The 'x' value of the coordinate\n",
    "        y: The 'y' value of the coordinate\n",
    "        equationList: A list of coefficients (A, B, C) from Ax+By+C=0 for all \n",
    "                      linear equations representing the line segments of a polygon.\n",
    "\n",
    "    Returns:\n",
    "        A list of the distances from the point (x,y) to every equation.\n",
    "    \"\"\"\n",
    "    distanceList = {}\n",
    "    for coeffs in equationList:\n",
    "        A, B, C = coeffs\n",
    "        distance = abs((A * x + B * y + C)) / (math.sqrt(A**2 + B**2))\n",
    "        distanceList[distance] = coeffs\n",
    "    \n",
    "    return distanceList"
   ]
  },
  {
   "cell_type": "code",
   "execution_count": 503,
   "id": "e2d0fcc0",
   "metadata": {},
   "outputs": [],
   "source": [
    "def spatialInterpolate(polygon_A, polygon_B, segments_A, segments_B):\n",
    "    \"\"\"\n",
    "    Spatially interpolates polygon A to polygon B by adding a vertex over one frame.\n",
    "    \n",
    "    Args:\n",
    "        polygon_A: The polygon that represents the starting polygon\n",
    "        polygon_B: The polygon we want to have in our final frame\n",
    "        equationList: A list of coefficients (A, B, C) from Ax+By+C=0 for all \n",
    "                      linear equations representing the line segments of a polygon.\n",
    "\n",
    "    Returns:\n",
    "        A list of the distances from the point (x,y) to every equation.\n",
    "    \"\"\"\n",
    "        \n",
    "    \n",
    "    subsets = findsubsets(polygon_B, len(polygon_A))\n",
    "    subset_length = len(subsets)\n",
    "\n",
    "    s_min, distance = minimumSubset(polygon_A, subsets)\n",
    "    \n",
    "    b_corr = np.array(subsets[s_min]) # the best correspondence for polygon \"B\"\n",
    "    \n",
    "    # https://stackoverflow.com/questions/69435359/fast-check-if-elements-in-array-are-within-another-array-2d\n",
    "    S = polygon_B[(polygon_B[:, None] == b_corr).all(-1).any(-1) == False]\n",
    "    \n",
    "    b_corr = np.array(b_corr)\n",
    "    \n",
    "    smallestValues = {}\n",
    "    i = 0\n",
    "    for coordinate in S:\n",
    "        x, y = coordinate\n",
    "        segmentDistances = findDistanceToLine(x, y, equations_coeffs)\n",
    "        smallest_key = min(segmentDistances.keys())\n",
    "        smallestValues[smallest_key] = segmentDistances[smallest_key]\n",
    "    \n",
    "    greatest_key = max(smallestValues.keys())\n",
    "    greatest_segment = smallestValues[greatest_key]\n",
    "    \n",
    "    best_segment = segments_A[equations_coeffs.index(greatest_segment)]\n",
    "        \n",
    "    print(\"Best segment:\")\n",
    "    print(best_segment)\n",
    "    mid_x1 = best_segment[0][0]\n",
    "    mid_x2 = best_segment[1][0]\n",
    "\n",
    "    mid_y1 = best_segment[0][1]\n",
    "    mid_y2 = best_segment[1][1]\n",
    "    \n",
    "    midpoint_x = (mid_x1 + mid_x2)/2 \n",
    "    midpoint_y = (mid_y1 + mid_y2)/2\n",
    "    \n",
    "    newPoint = [midpoint_x, midpoint_y]\n",
    "    \n",
    "    \n",
    "    # Add the new segments connecting the midpoint\n",
    "    segments_A = segments_A.tolist() + [[best_segment[0].tolist(), newPoint]] + [[best_segment[1].tolist(), newPoint]]\n",
    "\n",
    "    segments_A.remove(segments_A[equations_coeffs.index(greatest_segment)])\n",
    "    # Add new midpoint to polygon\n",
    "    polygon_A = np.array(polygon_A.tolist() + [newPoint])\n",
    "    \n",
    "    # Remove the best segment since its been split in two\n",
    "\n",
    "    \n",
    "    return polygon_A, np.array(segments_A)"
   ]
  },
  {
   "cell_type": "code",
   "execution_count": 504,
   "id": "90bb9773",
   "metadata": {},
   "outputs": [
    {
     "data": {
      "text/plain": [
       "array([[[0. , 0. ],\n",
       "        [0. , 2. ]],\n",
       "\n",
       "       [[0. , 2. ],\n",
       "        [1. , 0. ]],\n",
       "\n",
       "       [[1. , 0. ],\n",
       "        [0. , 0. ]],\n",
       "\n",
       "       [[1. , 0. ],\n",
       "        [0.5, 0. ]],\n",
       "\n",
       "       [[0. , 0. ],\n",
       "        [0.5, 0. ]]])"
      ]
     },
     "execution_count": 504,
     "metadata": {},
     "output_type": "execute_result"
    }
   ],
   "source": [
    "segments_A"
   ]
  },
  {
   "cell_type": "code",
   "execution_count": 505,
   "id": "5a698f38",
   "metadata": {},
   "outputs": [
    {
     "name": "stdout",
     "output_type": "stream",
     "text": [
      "Best segment:\n",
      "[[1 0]\n",
      " [0 0]]\n",
      "Frame  1 :  Polygon ->  [[0.0, 0.0], [1.0, 0.0], [0.0, 2.0], [0.5, 0.0]]  Segments ->  [[[0.0, 0.0], [0.0, 2.0]], [[0.0, 2.0], [1.0, 0.0]], [[1.0, 0.0], [0.5, 0.0]], [[0.0, 0.0], [0.5, 0.0]]]\n",
      "Best segment:\n",
      "[[1.  0. ]\n",
      " [0.5 0. ]]\n",
      "Frame  2 :  Polygon ->  [[0.0, 0.0], [1.0, 0.0], [0.0, 2.0], [0.5, 0.0], [0.75, 0.0]]  Segments ->  [[[0.0, 0.0], [0.0, 2.0]], [[0.0, 2.0], [1.0, 0.0]], [[0.0, 0.0], [0.5, 0.0]], [[1.0, 0.0], [0.75, 0.0]], [[0.5, 0.0], [0.75, 0.0]]]\n"
     ]
    }
   ],
   "source": [
    "polygon_A = np.array([[0,0],[1,0],[0,2]]) # Polygon A\n",
    "polygon_B = np.array([[5,0], [0,4], [6,5], [7,5], [7,0]]) # Polygon B\n",
    "segments_A = np.array([[[0,0], [0,2]], [[0,2], [1,0]], [[1,0], [0,0]]])\n",
    "segments_B = np.array([[[5,0], [0,4]], [[0,4], [6,5]], [[6,5], [7,5]], [[7,5], [7,0]], [[7,0], [5,0]]])\n",
    "x = 3 # Number of frames\n",
    "\n",
    "for i in range(1, x):\n",
    "    polygon_A, segments_A = spatialInterpolate(polygon_A, polygon_B, segments_A, segments_B)\n",
    "    print(\"Frame \", i, \": \", \"Polygon -> \", polygon_A.tolist(), \" Segments -> \", segments_A.tolist())"
   ]
  },
  {
   "cell_type": "code",
   "execution_count": 506,
   "id": "95306d36",
   "metadata": {},
   "outputs": [],
   "source": [
    "subsets = [([5,0], [0,4], [6,5], [7,5]), ([5,0], [0,4], [6,5], [7,0]), ([5,0], [0,4], [7,5], [7,0]), ([5,0], [6,5], [7,5], [7,0]), ([0,4], [6,5], [7,5], [7,0])]"
   ]
  },
  {
   "cell_type": "code",
   "execution_count": 507,
   "id": "0b201aec",
   "metadata": {},
   "outputs": [],
   "source": [
    "polygon_A = np.array([[0.0, 0.0], [1.0, 0.0], [0.0, 2.0], [0.5, 0.0]])"
   ]
  },
  {
   "cell_type": "code",
   "execution_count": 508,
   "id": "57add9cd",
   "metadata": {},
   "outputs": [],
   "source": [
    "segments_A = np.array([[[0.0, 0.0], [0.0, 2.0]], [[0.0, 2.0], [1.0, 0.0]], [[1.0, 0.0], [0.0, 0.0]], [[1.0, 0.0], [0.5, 0.0]], [[0.0, 0.0], [0.5, 0.0]]])"
   ]
  },
  {
   "cell_type": "code",
   "execution_count": 509,
   "id": "90c6b2b7",
   "metadata": {},
   "outputs": [],
   "source": [
    "s_min, distance = minimumSubset(polygon_A, subsets)"
   ]
  },
  {
   "cell_type": "code",
   "execution_count": 510,
   "id": "3b125d01",
   "metadata": {},
   "outputs": [
    {
     "name": "stdout",
     "output_type": "stream",
     "text": [
      "Best segment:\n",
      "[[1. 0.]\n",
      " [0. 0.]]\n"
     ]
    },
    {
     "data": {
      "text/plain": [
       "(array([[0. , 0. ],\n",
       "        [1. , 0. ],\n",
       "        [0. , 2. ],\n",
       "        [0.5, 0. ],\n",
       "        [0.5, 0. ]]),\n",
       " array([[[0. , 0. ],\n",
       "         [0. , 2. ]],\n",
       " \n",
       "        [[0. , 2. ],\n",
       "         [1. , 0. ]],\n",
       " \n",
       "        [[1. , 0. ],\n",
       "         [0.5, 0. ]],\n",
       " \n",
       "        [[0. , 0. ],\n",
       "         [0.5, 0. ]],\n",
       " \n",
       "        [[1. , 0. ],\n",
       "         [0.5, 0. ]],\n",
       " \n",
       "        [[0. , 0. ],\n",
       "         [0.5, 0. ]]]))"
      ]
     },
     "execution_count": 510,
     "metadata": {},
     "output_type": "execute_result"
    }
   ],
   "source": [
    "spatialInterpolate(polygon_A, polygon_B, segments_A, segments_B)"
   ]
  },
  {
   "cell_type": "code",
   "execution_count": null,
   "id": "033102f7",
   "metadata": {},
   "outputs": [],
   "source": []
  }
 ],
 "metadata": {
  "kernelspec": {
   "display_name": "Python 3 (ipykernel)",
   "language": "python",
   "name": "python3"
  },
  "language_info": {
   "codemirror_mode": {
    "name": "ipython",
    "version": 3
   },
   "file_extension": ".py",
   "mimetype": "text/x-python",
   "name": "python",
   "nbconvert_exporter": "python",
   "pygments_lexer": "ipython3",
   "version": "3.9.13"
  }
 },
 "nbformat": 4,
 "nbformat_minor": 5
}
