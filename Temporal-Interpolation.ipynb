{
 "cells": [
  {
   "cell_type": "code",
   "execution_count": 7,
   "id": "be887ea8",
   "metadata": {},
   "outputs": [],
   "source": [
    "import math\n",
    "import numpy as np"
   ]
  },
  {
   "cell_type": "code",
   "execution_count": 11,
   "id": "82e8f204",
   "metadata": {},
   "outputs": [],
   "source": [
    "def cyclePoints(x, y):\n",
    "    d_min = math.inf\n",
    "    i_min = 0\n",
    "    n = len(x)\n",
    "    \n",
    "    for i in range(0, n):\n",
    "        d = 0\n",
    "        for j in range(0, n):\n",
    "            current_x = x[j]\n",
    "            current_y = y[(i + j - 1) % n]\n",
    "            result = (current_x[0] - current_y[0], current_x[1] - current_y[1])\n",
    "            d = d + np.linalg.norm(result) ** 2 # Calculate the euclidean distance\n",
    "        if d < d_min:\n",
    "            d_min = d\n",
    "            i_min = i\n",
    "    return d_min, i_min"
   ]
  },
  {
   "cell_type": "code",
   "execution_count": 12,
   "id": "01d6fcd8",
   "metadata": {},
   "outputs": [],
   "source": [
    "x = ((1,1), (1,3), (4,2))\n",
    "y = ((2,1), (3,3), (5,1))"
   ]
  },
  {
   "cell_type": "code",
   "execution_count": 13,
   "id": "7a70093d",
   "metadata": {},
   "outputs": [],
   "source": [
    "min_dist, tuple_index = cyclePoints(x, y)\n",
    "y_mapping = y[tuple_index: len(y)] + y[0 : tuple_index]"
   ]
  },
  {
   "cell_type": "code",
   "execution_count": 14,
   "id": "6110ff9f",
   "metadata": {},
   "outputs": [
    {
     "name": "stdout",
     "output_type": "stream",
     "text": [
      "f:  ((1, 1), (1, 3), (4, 2))  ->  ((3, 3), (5, 1), (2, 1))\n"
     ]
    }
   ],
   "source": [
    "print(\"f: \", x, \" -> \", y_mapping)"
   ]
  },
  {
   "cell_type": "code",
   "execution_count": 15,
   "id": "36f4d6a1",
   "metadata": {},
   "outputs": [],
   "source": [
    "def temp_linear_inter(x_1, x_T, t, T):\n",
    "    x_t = x_1 + (((x_T - x_1) * (t-1)) /(T-1))\n",
    "    \n",
    "    return x_t"
   ]
  },
  {
   "cell_type": "code",
   "execution_count": 16,
   "id": "9cc02aca",
   "metadata": {},
   "outputs": [
    {
     "data": {
      "text/plain": [
       "12.142857142857142"
      ]
     },
     "execution_count": 16,
     "metadata": {},
     "output_type": "execute_result"
    }
   ],
   "source": [
    "temp_linear_inter(1, 40, 15, 50) #1 at first frame, 40 at the 50th frame, solve for the 15th frame"
   ]
  },
  {
   "cell_type": "code",
   "execution_count": null,
   "id": "1494baea",
   "metadata": {},
   "outputs": [],
   "source": []
  }
 ],
 "metadata": {
  "kernelspec": {
   "display_name": "Python 3 (ipykernel)",
   "language": "python",
   "name": "python3"
  },
  "language_info": {
   "codemirror_mode": {
    "name": "ipython",
    "version": 3
   },
   "file_extension": ".py",
   "mimetype": "text/x-python",
   "name": "python",
   "nbconvert_exporter": "python",
   "pygments_lexer": "ipython3",
   "version": "3.9.13"
  }
 },
 "nbformat": 4,
 "nbformat_minor": 5
}
